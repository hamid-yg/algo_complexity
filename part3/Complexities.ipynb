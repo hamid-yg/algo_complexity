{
  "nbformat": 4,
  "nbformat_minor": 0,
  "metadata": {
    "colab": {
      "provenance": []
    },
    "kernelspec": {
      "name": "python3",
      "display_name": "Python 3"
    },
    "language_info": {
      "name": "python"
    }
  },
  "cells": [
    {
      "cell_type": "markdown",
      "source": [
        "## Introduction\n",
        "\n",
        "In this exercise, we will analyze the time complexity of two Python functions, function_1 and function_2. We will first provide an overview of the algorithms and then proceed to analyze their time complexity using measurements and curve fitting. This exercise will help us understand the computational efficiency of these functions.\n"
      ],
      "metadata": {
        "id": "wWyvdnvcRN27"
      }
    },
    {
      "cell_type": "markdown",
      "source": [
        "## Detailed Algorithm Analysis\n",
        "\n",
        "### Function 1\n",
        "\n",
        "The outer loop runs from 0 to n^2 - 1, resulting in O(n^2) complexity.\n",
        "The inner loop runs from 0 to i, where i ranges from 0 to n^2 - 1. The sum of this loop has a time complexity of O(n^4/2), which simplifies to O(n^4)."
      ],
      "metadata": {
        "id": "6KN7HDIDh1ci"
      }
    },
    {
      "cell_type": "code",
      "source": [
        "def function_1(n: int) -> None:\n",
        "    temp_list = list()\n",
        "    for i in range(n**2):\n",
        "        temp = 0\n",
        "        for j in range(i):\n",
        "            temp += j\n",
        "        temp_list.append(temp)\n",
        "    sum(temp_list)"
      ],
      "metadata": {
        "id": "sIYl0nifhg5-"
      },
      "execution_count": null,
      "outputs": []
    },
    {
      "cell_type": "markdown",
      "source": [
        "### Function 2\n",
        "\n",
        "The outer loop runs from 0 to n - 1, resulting in O(n) complexity.\n",
        "Inside the loop, creating and shuffling a list of length n is typically O(n), and finding the maximum value is O(n)."
      ],
      "metadata": {
        "id": "R2CaoGGmhtql"
      }
    },
    {
      "cell_type": "code",
      "source": [
        "def function_2(n: int) -> None:\n",
        "    print(n)\n",
        "    for i in range(n):\n",
        "        temp_list = [j+i for j in range(n)]\n",
        "        shuffle(temp_list)\n",
        "        max(temp_list)"
      ],
      "metadata": {
        "id": "3HX3uktNhrhl"
      },
      "execution_count": null,
      "outputs": []
    },
    {
      "cell_type": "markdown",
      "source": [
        "## Technologies & Librairies used\n",
        "\n",
        "### Installation\n",
        "\n",
        "Before running the code for this exercise, you'll need to install the necessary tools and libraries.\n",
        "\n",
        "You'll need to install the following Python libraries using pip:\n",
        "\n"
      ],
      "metadata": {
        "id": "rTGaJ4SHRFee"
      }
    },
    {
      "cell_type": "code",
      "source": [
        "!pip install numpy\n",
        "!pip install matplotlib"
      ],
      "metadata": {
        "colab": {
          "base_uri": "https://localhost:8080/"
        },
        "id": "WK92XVGyiObu",
        "outputId": "dc3f8248-b25d-4df0-c39a-e32843db4377"
      },
      "execution_count": null,
      "outputs": [
        {
          "output_type": "stream",
          "name": "stdout",
          "text": [
            "Requirement already satisfied: numpy in /usr/local/lib/python3.10/dist-packages (1.23.5)\n",
            "Requirement already satisfied: matplotlib in /usr/local/lib/python3.10/dist-packages (3.7.1)\n",
            "Requirement already satisfied: contourpy>=1.0.1 in /usr/local/lib/python3.10/dist-packages (from matplotlib) (1.1.1)\n",
            "Requirement already satisfied: cycler>=0.10 in /usr/local/lib/python3.10/dist-packages (from matplotlib) (0.12.1)\n",
            "Requirement already satisfied: fonttools>=4.22.0 in /usr/local/lib/python3.10/dist-packages (from matplotlib) (4.43.1)\n",
            "Requirement already satisfied: kiwisolver>=1.0.1 in /usr/local/lib/python3.10/dist-packages (from matplotlib) (1.4.5)\n",
            "Requirement already satisfied: numpy>=1.20 in /usr/local/lib/python3.10/dist-packages (from matplotlib) (1.23.5)\n",
            "Requirement already satisfied: packaging>=20.0 in /usr/local/lib/python3.10/dist-packages (from matplotlib) (23.2)\n",
            "Requirement already satisfied: pillow>=6.2.0 in /usr/local/lib/python3.10/dist-packages (from matplotlib) (9.4.0)\n",
            "Requirement already satisfied: pyparsing>=2.3.1 in /usr/local/lib/python3.10/dist-packages (from matplotlib) (3.1.1)\n",
            "Requirement already satisfied: python-dateutil>=2.7 in /usr/local/lib/python3.10/dist-packages (from matplotlib) (2.8.2)\n",
            "Requirement already satisfied: six>=1.5 in /usr/local/lib/python3.10/dist-packages (from python-dateutil>=2.7->matplotlib) (1.16.0)\n"
          ]
        }
      ]
    },
    {
      "cell_type": "markdown",
      "source": [
        "\n",
        "## Code\n",
        "\n",
        "Now, let's implement the code to measure the execution times and fit polynomials to verify the time complexity bounds.\n",
        "\n",
        "\n"
      ],
      "metadata": {
        "id": "RI7deNSHiU_x"
      }
    },
    {
      "cell_type": "code",
      "source": [
        "import time\n",
        "import numpy as np\n",
        "import matplotlib.pyplot as plt\n",
        "from random import shuffle\n",
        "\n",
        "n_values = [10, 20, 30, 40, 50]  # Adjust as needed\n",
        "execution_times_1 = []\n",
        "execution_times_2 = []\n",
        "\n",
        "for n in n_values:\n",
        "    start_time = time.time()\n",
        "    function_1(n)\n",
        "    execution_times_1.append(time.time() - start_time)\n",
        "\n",
        "    start_time = time.time()\n",
        "    function_2(n)\n",
        "    execution_times_2.append(time.time() - start_time)\n",
        "\n",
        "plt.figure()\n",
        "plt.subplot(2, 1, 1)\n",
        "plt.plot(n_values, execution_times_1, label='Function 1')\n",
        "plt.title('Function 1 Execution Time')\n",
        "\n",
        "plt.subplot(2, 1, 2)\n",
        "plt.plot(n_values, execution_times_2, label='Function 2')\n",
        "plt.title('Function 2 Execution Time')\n",
        "\n",
        "degree_1 = 4\n",
        "degree_2 = 1\n",
        "coeffs_1 = np.polyfit(n_values, execution_times_1, degree_1)\n",
        "coeffs_2 = np.polyfit(n_values, execution_times_2, degree_2)\n",
        "\n",
        "plt.show()\n",
        "\n",
        "print(f'Function 1 Polynomial Coefficients: {coeffs_1}')\n",
        "\n",
        "print(f'Function 2 Polynomial Coefficients: {coeffs_2}')\n"
      ],
      "metadata": {
        "colab": {
          "base_uri": "https://localhost:8080/",
          "height": 591
        },
        "id": "-gSawW8eihgz",
        "outputId": "a3ee3533-d2e5-4b8f-be0b-5d6eaea81128"
      },
      "execution_count": null,
      "outputs": [
        {
          "output_type": "stream",
          "name": "stdout",
          "text": [
            "10\n",
            "20\n",
            "30\n",
            "40\n",
            "50\n"
          ]
        },
        {
          "output_type": "display_data",
          "data": {
            "text/plain": [
              "<Figure size 640x480 with 2 Axes>"
            ],
            "image/png": "[encoded data removed]"
          },
          "metadata": {}
        },
        {
          "output_type": "stream",
          "name": "stdout",
          "text": [
            "Function 1 Polynomial Coefficients: [-3.26726834e-07  4.60987488e-05 -1.81920429e-03  2.80924877e-02\n",
            " -1.40982628e-01]\n",
            "Function 2 Polynomial Coefficients: [ 0.00019679 -0.00256126]\n"
          ]
        }
      ]
    },
    {
      "cell_type": "markdown",
      "source": [
        "## Conclusion\n",
        "\n",
        "In this exercise, we successfully analyzed the time complexity of two Python functions, function_1 and function_2. We determined that function_1 has a time complexity of O(n^4) and function_2 has a time complexity of O(n). Our analysis was validated by measuring execution times and fitting polynomials to the data. Understanding the time complexity of algorithms is crucial for optimizing code and making informed decisions in algorithm selection for various applications."
      ],
      "metadata": {
        "id": "c_87y88eiYzy"
      }
    }
  ]
}