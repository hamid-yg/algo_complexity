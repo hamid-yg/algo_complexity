{
  "cells": [
    {
      "cell_type": "markdown",
      "metadata": {
        "id": "Bmsg_ZDQUZx5"
      },
      "source": [
        "# Hamiltonian and Eulerian Paths\n",
        "\n",
        "## Introduction\n",
        "\n",
        "The goal of this exercise is to explain and compute the Hamiltonian and Eulerian Paths.\n",
        "\n",
        "## Explanation\n",
        "\n",
        "Let's use a day-to-day example to explain the concepts of Eulerian and Hamiltonian paths and their connection through the line graph.\n",
        "\n",
        "### Eulerian Path\n",
        "\n",
        "Imagine you are taking a walk in your neighborhood and want to pass through every street exactly once and end up where you started. To do this, you need to ensure a few things:\n",
        "\n",
        "Your neighborhood must be connected, meaning you can reach any street from any other street.\n",
        "Most intersections (vertices) must have an even number of streets leading into them. However, it's okay if a couple of intersections have an odd number of streets, as long as you start and finish at one of them.\n",
        "In this scenario, the streets represent edges, and the intersections represent vertices of a graph. Finding a path that fulfills these conditions is like finding an Eulerian path in your neighborhood.\n",
        "\n",
        "### Hamiltonian Path\n",
        "\n",
        "Now, let's consider a different situation. You have a list of locations you want to visit, like your favorite park, a coffee shop, and a library, and you want to visit each location exactly once and then return home. It's not as easy to determine if such a path exists because there are no specific rules like the Eulerian path conditions. This is similar to the Hamiltonian path problem, which can be quite challenging to solve in a general scenario.\n",
        "\n",
        "### Connection through Line Graph\n",
        "\n",
        "Now, let's connect these two concepts through the line graph. Imagine you create a new map of your neighborhood where streets are represented by points (vertices), and if two streets share an intersection, you draw an edge between the corresponding points in the map. This map is the line graph of your neighborhood.\n",
        "\n",
        "If you find an Eulerian path on your neighborhood streets (the original graph), then, in the line graph, there will be a Hamiltonian path. This means the path you walked on the streets can be represented as a path through the points (vertices) in the line graph.\n",
        "\n",
        "Conversely, if there is a Hamiltonian path in the line graph (the map of street connections), it implies that you can find an Eulerian path in your neighborhood streets. This is because the Hamiltonian path in the line graph corresponds to a specific route on your neighborhood streets.\n",
        "\n",
        "So, the connection is like this: finding an Eulerian path in your neighborhood streets (original graph) is related to finding a Hamiltonian path in the map of street connections (line graph), and vice versa. The line graph helps to bridge the concepts of traversing edges in the original graph and visiting vertices in the derived graph, just as in our day-to-day example.\n",
        "\n",
        "## Code\n",
        "\n",
        "Illustration of this connection by building small random graphs with networkx and finding eulerian or hamiltonian paths in the obtained graphs / line graphs.\n",
        "\n",
        "First, let's install NetworkX if you haven't already:"
      ]
    },
    {
      "cell_type": "code",
      "execution_count": null,
      "metadata": {
        "colab": {
          "base_uri": "https://localhost:8080/"
        },
        "id": "P_fFdXAIVGZn",
        "outputId": "e8e911a7-cf6c-4f1f-b3f3-e8e18c9a73e5"
      },
      "outputs": [
        {
          "name": "stdout",
          "output_type": "stream",
          "text": [
            "Requirement already satisfied: networkx in /usr/local/lib/python3.10/dist-packages (3.2)\n"
          ]
        }
      ],
      "source": [
        "pip install networkx"
      ]
    },
    {
      "cell_type": "markdown",
      "metadata": {
        "id": "KWG6BbuCVJXv"
      },
      "source": [
        "Now, let's create random graphs and their line graphs and find Eulerian and Hamiltonian paths in both of them.\n"
      ]
    },
    {
      "cell_type": "code",
      "execution_count": null,
      "metadata": {
        "id": "AT5T9_klU8U2"
      },
      "outputs": [],
      "source": [
        "import networkx as nx\n",
        "import random\n",
        "\n",
        "def has_eulerian_path(G):\n",
        "    if not nx.is_connected(G):\n",
        "        return False\n",
        "    odd_degree_count = sum(1 for node in G if G.degree(node) % 2 != 0)\n",
        "    return odd_degree_count == 0 or odd_degree_count == 2\n",
        "\n",
        "def has_hamiltonian_path(G):\n",
        "    return nx.is_connected(G) and nx.is_eulerian(G.to_directed())\n",
        "\n",
        "random.seed(0)\n",
        "nodes = 6\n",
        "edges = 8\n",
        "G = nx.gnm_random_graph(nodes, edges)\n",
        "\n",
        "L = nx.line_graph(G)\n",
        "\n",
        "has_eulerian = has_eulerian_path(G)\n",
        "has_hamiltonian = has_hamiltonian_path(G)\n",
        "has_eulerian_line = has_eulerian_path(L)\n",
        "has_hamiltonian_line = has_hamiltonian_path(L)\n",
        "\n",
        "print(\"Original Graph:\")\n",
        "print(f\"Has Eulerian Path: {has_eulerian}\")\n",
        "print(f\"Has Hamiltonian Path: {has_hamiltonian}\\n\")\n",
        "\n",
        "print(\"Line Graph:\")\n",
        "print(f\"Has Eulerian Path: {has_eulerian_line}\")\n",
        "print(f\"Has Hamiltonian Path: {has_hamiltonian_line}\")"
      ]
    },
    {
      "cell_type": "markdown",
      "metadata": {
        "id": "uyt2kANlU3V2"
      },
      "source": [
        "This code will create a random graph and its corresponding line graph. It will then check for the existence of Eulerian and Hamiltonian paths in both the original graph and the line graph. The results will indicate whether these paths exist in each graph.\n",
        "\n",
        "Remember that for small random graphs, you might need to adjust the number of nodes and edges to control the presence of Eulerian and Hamiltonian paths. The random seed ensures reproducibility."
      ]
    },
    {
      "cell_type": "markdown",
      "metadata": {
        "id": "MONMgT9uVhWH"
      },
      "source": [
        "## Which one is considered as 'harder'\n",
        "\n",
        "From an algorithmic point of view, the Hamiltonian Path problem is generally considered harder than the Eulerian Path problem. Here's why:\n",
        "\n",
        "- Computational Complexity\n",
        "\n",
        "The Eulerian Path problem can be solved in polynomial time for specific cases, such as when the graph is connected and satisfies the degree conditions (all vertices have even degrees, except for two with odd degrees). Algorithms like Hierholzer's algorithm can efficiently find an Eulerian path under these conditions.\n",
        "In contrast, the Hamiltonian Path problem is NP-complete. This means there is no known algorithm that can solve it for all graphs in polynomial time, and it is believed to be computationally difficult.\n",
        "\n",
        "- Algorithmic Approaches\n",
        "\n",
        "Finding an Eulerian path typically involves simpler and more structured algorithms, which are often based on traversing the edges of the graph efficiently. These algorithms are well-defined and have polynomial time complexity for suitable cases.\n",
        "The Hamiltonian Path problem lacks such efficient and structured algorithms for general cases. It involves exploring all possible paths through the graph, which can lead to an exponential number of possibilities, making it challenging to find a solution efficiently.\n",
        "\n",
        "- Decision Complexity\n",
        "\n",
        "In decision theory, it's known that the Hamiltonian Path problem is NP-complete. This implies that if you can find a polynomial-time algorithm to solve the Hamiltonian Path problem, you could also solve many other NP-complete problems in polynomial time. This is not the case for the Eulerian Path problem, which has specific conditions that make it easier to tackle.\n",
        "\n",
        "## Conclusion\n",
        "\n",
        "In summary, the Hamiltonian Path problem is considered harder from an algorithmic point of view because it lacks efficient algorithms for general cases, is NP-complete, and involves a more complex decision theory, while the Eulerian Path problem has specific conditions and structured algorithms that can be applied in polynomial time for those cases."
      ]
    }
  ],
  "metadata": {
    "colab": {
      "provenance": []
    },
    "kernelspec": {
      "display_name": "Python 3",
      "name": "python3"
    },
    "language_info": {
      "name": "python"
    }
  },
  "nbformat": 4,
  "nbformat_minor": 0
}
