{
  "nbformat": 4,
  "nbformat_minor": 0,
  "metadata": {
    "colab": {
      "provenance": []
    },
    "kernelspec": {
      "name": "python3",
      "display_name": "Python 3"
    },
    "language_info": {
      "name": "python"
    }
  },
  "cells": [
    {
      "cell_type": "markdown",
      "source": [
        "## Introduction - Part 2: choosing binoms in a company matching\n",
        "\n"
      ],
      "metadata": {
        "id": "rX5n8zggS-OQ"
      }
    },
    {
      "cell_type": "markdown",
      "source": [
        "In this excercuse we are in the skin of a manager aiming to create binoms by mathcing the employees that are able to work together. We have a choice in which heuristic gives us the greater amount of binoms. We will choose two methods to apply to a Erdös-Rendy random graph and compare their results in the end."
      ],
      "metadata": {
        "id": "5DlnA1YtHcmL"
      }
    },
    {
      "cell_type": "markdown",
      "source": [
        "This is the python function used to generate and visualize the graph. Make sure you install and import networkx and matplotlib if you do not have them already"
      ],
      "metadata": {
        "id": "13Bf01xqJvEv"
      }
    },
    {
      "cell_type": "code",
      "source": [
        "import networkx as nx\n",
        "import matplotlib.pyplot as plt\n",
        "\n",
        "def generate_and_visualize_random_graph(n, p):\n",
        "    # Generate (Erdös-Renyi) random graph\n",
        "    G = nx.gnp_random_graph(n, p)\n",
        "\n",
        "    # Visualize the graph\n",
        "    pos = nx.spring_layout(G, seed=42)  # layout for node positions\n",
        "    nx.draw(G, pos, with_labels=True, node_color='skyblue', node_size=100, font_size=8, font_color='black')\n",
        "    plt.title(f'Erdös-Renyi Random Graph (n={n}, p={p})')\n",
        "    plt.show()\n",
        "\n",
        "generate_and_visualize_random_graph(n=120, p=0.04)"
      ],
      "metadata": {
        "id": "2AbfXVZlJrFx"
      },
      "execution_count": null,
      "outputs": []
    },
    {
      "cell_type": "markdown",
      "source": [
        "*EXAMPLE GRAPH FIGURE 1*"
      ],
      "metadata": {
        "id": "pu6FmZ_1TBD7"
      }
    },
    {
      "cell_type": "markdown",
      "source": [
        "This function performs a max degree matching which involves selecting nodes with the highest degrees first. It aims to maximize the number of edges in the matching."
      ],
      "metadata": {
        "id": "i_hd2D4wQ-rp"
      }
    },
    {
      "cell_type": "code",
      "source": [
        "def maximum_degree_heuristic_matching(graph):\n",
        "    matching = set()\n",
        "\n",
        "    # Sort nodes in descending degree order\n",
        "    nodes_by_degree = sorted(graph.nodes(), key=lambda x: -graph.degree(x))\n",
        "\n",
        "    # Iterate the nodes and add edges to the matching\n",
        "    for node in nodes_by_degree:\n",
        "        if node not in matching:\n",
        "            neighbor = next(iter(graph.neighbors(node)), None)\n",
        "            if neighbor and neighbor not in matching:\n",
        "                matching.add(node)\n",
        "                matching.add(neighbor)\n",
        "\n",
        "    return matching"
      ],
      "metadata": {
        "id": "OUIru5yhQ2qx"
      },
      "execution_count": null,
      "outputs": []
    },
    {
      "cell_type": "markdown",
      "source": [
        "This function works in the opposite way by selecting nodes with the lowest degrees first."
      ],
      "metadata": {
        "id": "J3G6_xSiR0QS"
      }
    },
    {
      "cell_type": "code",
      "source": [
        "def minimum_degree_heuristic_matching(graph):\n",
        "    # Create an empty set to store the matching\n",
        "    matching = set()\n",
        "\n",
        "    # Sort nodes by degree in ascending order\n",
        "    nodes_by_degree = sorted(graph.nodes(), key=lambda x: graph.degree(x))\n",
        "\n",
        "    # Iterate through the nodes and add edges to the matching\n",
        "    for node in nodes_by_degree:\n",
        "        if node not in matching:\n",
        "            neighbor = next(iter(graph.neighbors(node)), None)\n",
        "            if neighbor and neighbor not in matching:\n",
        "                matching.add(node)\n",
        "                matching.add(neighbor)\n",
        "\n",
        "    return matching"
      ],
      "metadata": {
        "id": "n87NU2XpRz9d"
      },
      "execution_count": null,
      "outputs": []
    },
    {
      "cell_type": "markdown",
      "source": [
        "*EXAMPLE GRAPH FIGURE 2 (all three graphs)*"
      ],
      "metadata": {
        "id": "dMQXMAW0XxY6"
      }
    },
    {
      "cell_type": "markdown",
      "source": [
        "*TESTING*"
      ],
      "metadata": {
        "id": "LZORmcFTayNq"
      }
    },
    {
      "cell_type": "markdown",
      "source": [
        "To make sure that the used heuristics indeed return matchings we added a test file test_matching.py as showed below using unitests"
      ],
      "metadata": {
        "id": "0RH1zg_Va2_m"
      }
    },
    {
      "cell_type": "code",
      "source": [
        "import networkx as nx\n",
        "import unittest\n",
        "from algo_part2 import maximum_degree_heuristic_matching\n",
        "from algo_part2 import minimum_degree_heuristic_matching\n",
        "def is_matching(graph, matching):\n",
        "    for node in matching:\n",
        "        neighbors = set(graph.neighbors(node))\n",
        "        neighbors_in_matching = neighbors & matching\n",
        "        if len(neighbors_in_matching) > 1:\n",
        "            return False\n",
        "    return True\n",
        "\n",
        "class TestMatching(unittest.TestCase):\n",
        "    def test_maximum_degree_matching(self):\n",
        "        G = nx.gnp_random_graph(120, 0.04)\n",
        "        matching = maximum_degree_heuristic_matching(G)\n",
        "        self.assertTrue(is_matching(G, matching))\n",
        "\n",
        "    def test_minimum_degree_matching(self):\n",
        "        G = nx.gnp_random_graph(120, 0.04)\n",
        "        matching = minimum_degree_heuristic_matching(G)\n",
        "        self.assertTrue(is_matching(G, matching))\n",
        "\n",
        "if __name__ == '__main__':\n",
        "    unittest.main()\n"
      ],
      "metadata": {
        "id": "pEj0u45LbGyE"
      },
      "execution_count": null,
      "outputs": []
    },
    {
      "cell_type": "markdown",
      "source": [
        "Here we add the statistical analysis to compare matching size and execution times"
      ],
      "metadata": {
        "id": "iQIY_MqEXQdr"
      }
    },
    {
      "cell_type": "code",
      "source": [
        "num_graphs = 100\n",
        "n = 120\n",
        "p = 0.04\n",
        "\n",
        "matching_sizes_max_degree = []\n",
        "matching_sizes_min_degree = []\n",
        "execution_times_max_degree = []\n",
        "execution_times_min_degree = []\n",
        "\n",
        "# Perform experiments on multiple random graph instances\n",
        "for _ in range(num_graphs):\n",
        "    random_graph = generate_random_graph(n, p)\n",
        "\n",
        "    start_time = time.time()\n",
        "    matching_max_degree = maximum_degree_heuristic_matching(random_graph)\n",
        "    execution_time_max_degree = time.time() - start_time\n",
        "\n",
        "    start_time = time.time()\n",
        "    matching_min_degree = minimum_degree_heuristic_matching(random_graph)\n",
        "    execution_time_min_degree = time.time() - start_time\n",
        "\n",
        "    matching_sizes_max_degree.append(len(matching_max_degree))\n",
        "    matching_sizes_min_degree.append(len(matching_min_degree))\n",
        "    execution_times_max_degree.append(execution_time_max_degree)\n",
        "    execution_times_min_degree.append(execution_time_min_degree)\n",
        "\n",
        "# Statistical analysis\n",
        "mean_matching_size_max_degree = statistics.mean(matching_sizes_max_degree)\n",
        "mean_matching_size_min_degree = statistics.mean(matching_sizes_min_degree)\n",
        "mean_execution_time_max_degree = statistics.mean(execution_times_max_degree)\n",
        "mean_execution_time_min_degree = statistics.mean(execution_times_min_degree)\n",
        "\n",
        "# Print and visualize the results\n",
        "print(\"Statistical Comparison:\")\n",
        "print(f\"Mean Matching Size (Max Degree): {mean_matching_size_max_degree}\")\n",
        "print(f\"Mean Matching Size (Min Degree): {mean_matching_size_min_degree}\")\n",
        "print(f\"Mean Execution Time (Max Degree): {mean_execution_time_max_degree} seconds\")\n",
        "print(f\"Mean Execution Time (Min Degree): {mean_execution_time_min_degree} seconds\")\n",
        "\n",
        "# Create histograms to visualize matching sizes\n",
        "plt.figure(figsize=(12, 5))\n",
        "plt.subplot(1, 2, 1)\n",
        "plt.hist(matching_sizes_max_degree, bins=15, alpha=0.5, label=\"Max Degree Heuristic\")\n",
        "plt.hist(matching_sizes_min_degree, bins=15, alpha=0.5, label=\"Min Degree Heuristic\")\n",
        "plt.title(\"Matching Sizes Distribution\")\n",
        "plt.xlabel(\"Matching Size\")\n",
        "plt.ylabel(\"Frequency\")\n",
        "plt.legend()\n",
        "\n",
        "# Create histograms to visualize execution times\n",
        "plt.subplot(1, 2, 2)\n",
        "plt.hist(execution_times_max_degree, bins=15, alpha=0.5, label=\"Max Degree Heuristic\")\n",
        "plt.hist(execution_times_min_degree, bins=15, alpha=0.5, label=\"Min Degree Heuristic\")\n",
        "plt.title(\"Execution Times Distribution\")\n",
        "plt.xlabel(\"Execution Time (seconds)\")\n",
        "plt.ylabel(\"Frequency\")\n",
        "plt.legend()\n",
        "\n",
        "plt.tight_layout()\n",
        "plt.show()"
      ],
      "metadata": {
        "id": "Jqp-NHuNW8aK"
      },
      "execution_count": null,
      "outputs": []
    },
    {
      "cell_type": "markdown",
      "source": [
        "*RESULTS*"
      ],
      "metadata": {
        "id": "f2OxvUuJX5nd"
      }
    },
    {
      "cell_type": "code",
      "source": [
        "dodjiakuesson@Dodjis-Air AlgoPart2 % python3 stats.py\n",
        "Statistical Comparison:\n",
        "Mean Matching Size (Max Degree): 69.86\n",
        "Mean Matching Size (Min Degree): 77.52\n",
        "Mean Execution Time (Max Degree): 6.923437118530273e-05 seconds\n",
        "Mean Execution Time (Min Degree): 6.331443786621094e-05 seconds"
      ],
      "metadata": {
        "id": "ukH7KcSBarXU"
      },
      "execution_count": null,
      "outputs": []
    },
    {
      "cell_type": "markdown",
      "source": [
        "*GRAPHS*"
      ],
      "metadata": {
        "id": "UbQ5iw2-X-Sy"
      }
    },
    {
      "cell_type": "markdown",
      "source": [
        "![picture](https://drive.google.com/file/d/1rZHhGK74s-4rLRYcjKbVf_abTYDgp-Si/view?usp=share_link)"
      ],
      "metadata": {
        "id": "RsV-bIkZZprB"
      }
    },
    {
      "cell_type": "markdown",
      "source": [
        "*CONCLUSION*"
      ],
      "metadata": {
        "id": "9hrd24jubvMu"
      }
    },
    {
      "cell_type": "markdown",
      "source": [
        "We see that both the Maximum Degree Heuristic and Minimum Degree Heuristic tend to return matchings with similar sizes on average. The mean matching size for both heuristics may be relatively close. This suggests that, in this specific context (Erdős-Rényi random graphs with n=120 and p=0.04), both heuristics are reasonably effective in finding matchings of similar sizes."
      ],
      "metadata": {
        "id": "4KNM4D3Hbyt4"
      }
    },
    {
      "cell_type": "code",
      "source": [],
      "metadata": {
        "id": "wBPxUu6YcDK4"
      },
      "execution_count": null,
      "outputs": []
    }
  ]
}