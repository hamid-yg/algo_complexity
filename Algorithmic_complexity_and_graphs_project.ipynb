{
  "nbformat": 4,
  "nbformat_minor": 0,
  "metadata": {
    "colab": {
      "provenance": [],
      "include_colab_link": true
    },
    "kernelspec": {
      "name": "python3",
      "display_name": "Python 3"
    },
    "language_info": {
      "name": "python"
    }
  },
  "cells": [
    {
      "cell_type": "markdown",
      "metadata": {
        "id": "view-in-github",
        "colab_type": "text"
      },
      "source": [
        "<a href=\"https://colab.research.google.com/github/hamid-yg/algo_complexity/blob/main/Algorithmic_complexity_and_graphs_project.ipynb\" target=\"_parent\"><img src=\"https://colab.research.google.com/assets/colab-badge.svg\" alt=\"Open In Colab\"/></a>"
      ]
    },
    {
      "cell_type": "code",
      "execution_count": null,
      "metadata": {
        "id": "atOnt69NlGrd"
      },
      "outputs": [],
      "source": []
    },
    {
      "cell_type": "markdown",
      "source": [
        "# ***Algorithmic complexity and graphs project***\n",
        "\n",
        "\n",
        "**Part 1 : the snowplow problem**"
      ],
      "metadata": {
        "id": "eLYGHIdMlpNJ"
      }
    },
    {
      "cell_type": "code",
      "source": [
        "n = [3, 6, 9, 1] #n = 4 n: len de la list"
      ],
      "metadata": {
        "id": "oDdq1GgqmEFW"
      },
      "execution_count": null,
      "outputs": []
    },
    {
      "cell_type": "code",
      "source": [
        "import numpy as np\n",
        "\n",
        "def greedy_snowplow(house_positions):\n",
        "    house_positions.sort()  # Tri des positions des maisons\n",
        "    snowplow_position = 0  # Position initiale du chasse-neige\n",
        "    total_distance = 0  # Distance totale parcourue\n",
        "    waiting_times = []\n",
        "\n",
        "    for house in house_positions:\n",
        "        distance = abs(house - snowplow_position)\n",
        "        total_distance += distance\n",
        "        snowplow_position = house  # Déplacer le chasse-neige à la maison\n",
        "        waiting_times.append(total_distance)\n",
        "\n",
        "    average_waiting_time = sum(waiting_times) / len(waiting_times)\n",
        "    return average_waiting_time\n",
        "\n",
        "# Exemple d'utilisation\n",
        "house_positions = [-1.5, 0.5, -1, 2]\n",
        "average_time = greedy_snowplow(house_positions)\n",
        "print(\"Temps d'attente moyen avec l'algorithme glouton :\", average_time)\n"
      ],
      "metadata": {
        "colab": {
          "base_uri": "https://localhost:8080/"
        },
        "id": "IKIR2MnFsV2U",
        "outputId": "75faafbf-f22e-4ea0-9bfd-891fa36836e6"
      },
      "execution_count": null,
      "outputs": [
        {
          "output_type": "stream",
          "name": "stdout",
          "text": [
            "Temps d'attente moyen avec l'algorithme glouton : 3.0\n"
          ]
        }
      ]
    },
    {
      "cell_type": "code",
      "source": [
        "average_time_greedy = greedy_snowplow([-1, 2, 3, -0,5, 6,5])\n",
        "average_time_greedy"
      ],
      "metadata": {
        "colab": {
          "base_uri": "https://localhost:8080/"
        },
        "id": "4H6bvdPysXbW",
        "outputId": "5d6ecf08-fdf6-4ba4-e2ae-032d235e1a6d"
      },
      "execution_count": null,
      "outputs": [
        {
          "output_type": "execute_result",
          "data": {
            "text/plain": [
              "4.857142857142857"
            ]
          },
          "metadata": {},
          "execution_count": 7
        }
      ]
    },
    {
      "cell_type": "code",
      "source": [
        "average_time = 4\n",
        "percentage_difference = ((average_time_greedy - average_time) / average_time_greedy) * 100\n",
        "if percentage_difference > 0:\n",
        "    print(\"Votre calcul est meilleur que l'algorithme glouton de\", abs(percentage_difference), \"%.\")\n",
        "elif percentage_difference < 0:\n",
        "    print(\"L'algorithme glouton est meilleur que votre calcul de\", abs(percentage_difference), \"%.\")\n",
        "else:\n",
        "    print(\"Les deux méthodes ont donné le même temps d'attente moyen.\")"
      ],
      "metadata": {
        "colab": {
          "base_uri": "https://localhost:8080/"
        },
        "id": "xfEvtBxQsi57",
        "outputId": "2bbe6b14-50f0-4e49-b7ce-e59f46441e16"
      },
      "execution_count": null,
      "outputs": [
        {
          "output_type": "stream",
          "name": "stdout",
          "text": [
            "Votre calcul est meilleur que l'algorithme glouton de 17.647058823529406 %.\n"
          ]
        }
      ]
    },
    {
      "cell_type": "code",
      "source": [
        "import numpy as np\n",
        "import random\n",
        "\n",
        "size = 10\n",
        "np.set_printoptions(precision=1)\n",
        "my_randoms = np.random.uniform(low=(random.random()*-1), high=random.random(), size=10)\n",
        "print(my_randoms)"
      ],
      "metadata": {
        "colab": {
          "base_uri": "https://localhost:8080/"
        },
        "id": "LHtm4S_lAQ2H",
        "outputId": "9fe4e4c2-54ad-4dec-b92d-9df9f53554b0"
      },
      "execution_count": null,
      "outputs": [
        {
          "output_type": "stream",
          "name": "stdout",
          "text": [
            "[-0.2 -0.3  0.  -0.1 -0.  -0.6 -0.1 -0.3  0.2  0.5]\n"
          ]
        }
      ]
    },
    {
      "cell_type": "code",
      "source": [
        "n = [3, 6, 9, 1]\n",
        "snow = 0\n",
        "total_distance = 0\n",
        "waiting_times = []\n",
        "for pos in n:\n",
        "  distance = abs(pos - snow)\n",
        "  total_distance += distance\n",
        "  waiting_times.append(total_distance)\n",
        "average_waiting_time = sum(waiting_times) / len(waiting_times)\n",
        "average_waiting_time"
      ],
      "metadata": {
        "colab": {
          "base_uri": "https://localhost:8080/"
        },
        "id": "upZpQD-0K5y-",
        "outputId": "385baf18-6bbe-4fcd-fd4d-22615f12d311"
      },
      "execution_count": null,
      "outputs": [
        {
          "output_type": "execute_result",
          "data": {
            "text/plain": [
              "12.25"
            ]
          },
          "metadata": {},
          "execution_count": 20
        }
      ]
    },
    {
      "cell_type": "code",
      "source": [
        "n = [-9, -1, 1, 12, 20, 100]\n",
        "snow = 0\n",
        "for index, pos in enumerate(n):\n",
        "  target = min(n, key=lambda x:abs(x-snow))\n",
        "  print(f\"target : {target} position: {pos}\")\n",
        "  n.remove(pos)\n",
        "  snow = target"
      ],
      "metadata": {
        "colab": {
          "base_uri": "https://localhost:8080/"
        },
        "id": "XjSf2nHrm9EO",
        "outputId": "1ec1f0ae-4261-49d4-c161-388ab921f85f"
      },
      "execution_count": null,
      "outputs": [
        {
          "output_type": "stream",
          "name": "stdout",
          "text": [
            "targett : -1 position: -9\n",
            "targett : -1 position: 1\n",
            "targett : -1 position: 20\n"
          ]
        }
      ]
    },
    {
      "cell_type": "code",
      "source": [
        "def greedy_partition(n):\n",
        "    n.sort()  # Trie la liste\n",
        "    groups = []  # Liste de groupes\n",
        "\n",
        "    current_group = [n[0]]  # Crée le premier groupe avec le premier élément\n",
        "\n",
        "    for i in range(1, len(n)):\n",
        "        if n[i] - current_group[-1] <= 10:\n",
        "            current_group.append(n[i])\n",
        "        else:\n",
        "            groups.append(current_group)  # Termine le groupe actuel\n",
        "            current_group = [n[i]]  # Démarre un nouveau groupe avec l'élément actuel\n",
        "\n",
        "    groups.append(current_group)  # Ajoute le dernier groupe à la liste de groupes\n",
        "\n",
        "    return groups\n",
        "\n",
        "n = [-9, -1, 1, 12, 20, 100]\n",
        "n = [100, 12, 1, 20, -1, -9]\n",
        "result = greedy_partition(n)\n",
        "print(result)\n"
      ],
      "metadata": {
        "id": "ZyvNZ_WUpO07",
        "colab": {
          "base_uri": "https://localhost:8080/"
        },
        "outputId": "d4fce508-a3f7-40ad-ca4e-366f7744e375"
      },
      "execution_count": null,
      "outputs": [
        {
          "output_type": "stream",
          "name": "stdout",
          "text": [
            "[[-9, -1, 1], [12, 20], [100]]\n"
          ]
        }
      ]
    },
    {
      "cell_type": "code",
      "source": [
        "import time\n",
        "\n",
        "def greedy_partition(n):\n",
        "    n.sort()\n",
        "    groups = []\n",
        "    current_group = [n[0]]\n",
        "\n",
        "    for i in range(1, len(n)):\n",
        "        if n[i] - current_group[-1] <= 10:\n",
        "            current_group.append(n[i])\n",
        "        else:\n",
        "            groups.append(current_group)\n",
        "            current_group = [n[i]]\n",
        "\n",
        "    groups.append(current_group)\n",
        "\n",
        "    return groups\n",
        "\n",
        "n = [-9, -1, 1, 12, 20, 100]\n",
        "num_iterations = 1000  # Nombre d'itérations pour le calcul du temps moyen\n",
        "\n",
        "total_time = 0\n",
        "for _ in range(num_iterations):\n",
        "    start_time = time.time()\n",
        "    result = greedy_partition(n)\n",
        "    end_time = time.time()\n",
        "    total_time += end_time - start_time\n",
        "\n",
        "average_time = total_time / num_iterations\n",
        "\n",
        "print(\"Résultat de l'algorithme:\", result)\n",
        "print(\"Temps moyen d'exécution:\", average_time, \"secondes\")\n"
      ],
      "metadata": {
        "colab": {
          "base_uri": "https://localhost:8080/"
        },
        "id": "GjFl2FzzgN38",
        "outputId": "8ee68204-b9d2-45ee-9629-e37db4c5d7fe"
      },
      "execution_count": null,
      "outputs": [
        {
          "output_type": "stream",
          "name": "stdout",
          "text": [
            "Résultat de l'algorithme: [[-9, -1, 1], [12, 20], [100]]\n",
            "Temps moyen d'exécution: 3.2908916473388674e-06 secondes\n"
          ]
        }
      ]
    },
    {
      "cell_type": "code",
      "source": [
        "def parcours(positions):\n",
        "    n = len(positions)\n",
        "    sorted_positions = sorted(positions)\n",
        "    dp = [0] * n\n",
        "    if n == 0:\n",
        "      return [], []\n",
        "\n",
        "    for i in range(n):\n",
        "        dp[i] = sorted_positions[i]\n",
        "\n",
        "        for j in range(i):\n",
        "            dp[i] = min(dp[i], dp[j] + sorted_positions[i] - sorted_positions[j])\n",
        "\n",
        "    average_waiting_time = sum(dp) / n\n",
        "\n",
        "    cleaned_houses = []\n",
        "    current_waiting_time = dp[n - 1]\n",
        "    for i in range(n - 1, -1, -1):\n",
        "        if i == 0:\n",
        "            cleaned_houses.append(sorted_positions[i])\n",
        "        else:\n",
        "            if dp[i] == current_waiting_time:\n",
        "                cleaned_houses.append(sorted_positions[i])\n",
        "                current_waiting_time -= sorted_positions[i] - sorted_positions[i - 1]\n",
        "\n",
        "    return dp, cleaned_houses, average_waiting_time\n"
      ],
      "metadata": {
        "id": "wWZQKP_EjcbI"
      },
      "execution_count": null,
      "outputs": []
    }
  ]
}